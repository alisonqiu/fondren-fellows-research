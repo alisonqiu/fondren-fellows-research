{
 "cells": [
  {
   "cell_type": "markdown",
   "metadata": {
    "id": "87pQiPUL9gsC"
   },
   "source": [
    "<h1><center>\n",
    "Household Pulse Survey (COVID-19) \n",
    "</center></h1>\n",
    "\n",
    "# Introduction\n",
    "\n",
    "[Data source](https://www.google.com/url?q=https://www.census.gov/programs-surveys/household-pulse-survey/datasets.html%23phase1)\n",
    "\n",
    "\n",
    "[Household Pulse Survey Questionnaire (In Field Beginning September 14, 2022)](https://www2.census.gov/programs-surveys/demo/technical-documentation/hhp/Phase_36_Household_Pulse_Survey_ENGLISH.pdf)\n",
    "The U.S. Census Bureau, in collaboration with multiple federal agencies, designed The Household Pulse Survey to measure the social and economic effects of coronavirus on American households. The Household Pulse Survey is a 20-minute online survey studying how the coronavirus pandemic is impacting households across the country from a social and economic perspective.Data will be disseminated in near real-time to inform federal and state response and recovery planning. \n",
    "\n",
    "Phase 1 began on April 23, 2020 and ended on July 21, 2020. Data collection began on April 23, 2020, conducted by an internet questionnaire. Data was with links sent by email to 1,867,126 email addresses. The combined response from week one and two generated 74,413 complete and sufficient partial interviews.\n",
    "On May 7, 2020, the second weekly sample was released combing households with completed interviews from the initial sample with new households for a total of 1,048,950 households. This second sample, also marked the addition of the capacity to invite survey responses through text messaging. The cases now include up to five email addresses, and up to five cellular telephone numbers. Initial contact plans for the second sample specified contacting the previously interviewed households by whichever means they identified as their preferred method and contact. Between May 7 and May 12, 2020 another 41,996 interviews were collected.\n",
    "Data is accessible from the U.S. Census Bureau’s Experimental Data webpage tables, interactive data tools, and microdata .\n",
    "\n",
    "\n",
    "In phase 1, the following attributes are collected: \n",
    "- Basic demographics\n",
    "    - Age, sex, race, Hispanic origin, marital status, educational attainment\n",
    "- Employment questions\n",
    "    - Employment and employment income (BLS/Census) \n",
    "    - Spending source of funds (BLS)\n",
    "- Food security questions\n",
    "    - Past and current food sufficiency (USDA-ERS)\n",
    "    - Free meals (USDA-ERS)\n",
    "    - Money spent on groceries and prepared foods (USDA-ERS)\n",
    "- Health questions\n",
    "    - Overall health (NCHS)\n",
    "    - Mental health (NCHS)\n",
    "    - Health insurance (NCHS/Census)\n",
    "    - Access and delays in health care (NCHS)\n",
    "- Housing questions\n",
    "    - Tenure (HUD)\n",
    "    - Rent and mortgage current payment status (HUD) Confidence about paying rent/mortgage next month (HUD)\n",
    "- Education questions\n",
    "    - Effects of COVID on how K-12 children received education (NCES)\n",
    "    - Access to computer/digital device and internet availability (NCES)\n",
    "    - Time spent with teachers, spent on educational activities, and studying (NCES)   \n",
    "\n",
    "\n",
    "Codebook for ordinal variables: \n",
    "- Age \n",
    "1. 18 - 29\n",
    "2. 30 - 39\n",
    "3. 40 - 49\n",
    "4. 50 - 59\n",
    "5. 60 - 69\n",
    "6. 70 - 79\n",
    "7. 80 and above   \n",
    "\n",
    "Education\n",
    "Less than a high school diploma\n",
    "High school diploma or GED\n",
    "Some college/associate's degree\n",
    "Bachelor's degree or higher\n",
    "\n",
    "Household income\n",
    "Less than $25,000\n",
    "$25,000 - $34,999\n",
    "$35,000 - $49,999 \n",
    "$50,000 - $74,999 \n",
    "$75,000 - $99,999 \n",
    "$100,000 - $149,999 \n",
    "$150,000 - $199,999\n",
    "$200,000 and above\n",
    "Did not report\n",
    "\n",
    "Health status\n",
    "Excellent\n",
    "Very good\n",
    "Good\n",
    "Fair\n",
    "Poor\n",
    "Did not report\n",
    "\n",
    "Frequency of feeling nervous, anxious, or on edge\n",
    "Not at all\tSeveral days\tMore than half the days\tNearly every day\tDid not report\n",
    "\n",
    "Frequency of not being able to stop or control worrying\t\t\t\t\n",
    "Not at all\tSeveral days\tMore than half the days\tNearly every day\tDid not report\n",
    "\n",
    "Frequency of having little interest or pleasure in doing things\t\t\t\t\n",
    "Not at all\tSeveral days\tMore than half the days\tNearly every day\tDid not report\n",
    "\n",
    "Frequency of feeling down, depressed, or hopeless\t\t\t\t\n",
    "Not at all\tSeveral days\tMore than half the days\tNearly every day\tDid not report\n",
    "    \n",
    "The overarching questions guiding our analysis:\n",
    "- What type of households are more likely to experience mental health challneges? \n",
    "<!-- TODO: add more-->\n",
    "- "
   ]
  },
  {
   "cell_type": "code",
   "execution_count": 2,
   "metadata": {
    "id": "5apN3sCr9gsD"
   },
   "outputs": [],
   "source": [
    "### standard imports\n",
    "import pandas as pd\n",
    "import numpy as np\n",
    "import matplotlib.pyplot as plt\n",
    "# allows you to view the plots upon executing your code\n",
    "%matplotlib inline\n",
    "# sets the plotting style, feel free to change!\n",
    "plt.style.use('fivethirtyeight')\n",
    "# prevents histogram bars to fuse together\n",
    "plt.rcParams[\"patch.force_edgecolor\"] = True\n",
    "import seaborn as sns\n",
    "import warnings\n",
    "# ignores warning message\n",
    "warnings.filterwarnings('ignore')\n",
    "# change max column display option\n",
    "pd.options.display.max_columns = 50"
   ]
  },
  {
   "cell_type": "markdown",
   "metadata": {
    "id": "i-cNW0vF9gsE"
   },
   "source": [
    "# Data and Data Exploration"
   ]
  },
  {
   "cell_type": "code",
   "execution_count": 30,
   "metadata": {
    "scrolled": true
   },
   "outputs": [
    {
     "name": "stdout",
     "output_type": "stream",
     "text": [
      "(rows, columns): (74413, 82)\n"
     ]
    },
    {
     "data": {
      "text/plain": [
       "Index(['SCRAM', 'WEEK', 'EST_ST', 'EST_MSA', 'PWEIGHT', 'TBIRTH_YEAR',\n",
       "       'ABIRTH_YEAR', 'EGENDER', 'AGENDER', 'RHISPANIC', 'AHISPANIC', 'RRACE',\n",
       "       'ARACE', 'EEDUC', 'AEDUC', 'MS', 'THHLD_NUMPER', 'AHHLD_NUMPER',\n",
       "       'THHLD_NUMKID', 'AHHLD_NUMKID', 'THHLD_NUMADLT', 'WRKLOSS', 'EXPCTLOSS',\n",
       "       'ANYWORK', 'KINDWORK', 'RSNNOWRK', 'UNEMPPAY', 'PRIFOODSUF',\n",
       "       'CURFOODSUF', 'FOODSUFRSN1', 'FOODSUFRSN2', 'FOODSUFRSN3',\n",
       "       'FOODSUFRSN4', 'FOODSUFRSN5', 'FREEFOOD', 'WHEREFREE1', 'WHEREFREE2',\n",
       "       'WHEREFREE3', 'WHEREFREE4', 'WHEREFREE5', 'WHEREFREE6', 'WHEREFREE7',\n",
       "       'TSPNDFOOD', 'TSPNDPRPD', 'FOODCONF', 'HLTHSTATUS', 'ANXIOUS', 'WORRY',\n",
       "       'INTEREST', 'DOWN', 'HLTHINS1', 'HLTHINS2', 'HLTHINS3', 'HLTHINS4',\n",
       "       'HLTHINS5', 'HLTHINS6', 'HLTHINS7', 'HLTHINS8', 'DELAY', 'NOTGET',\n",
       "       'TENURE', 'MORTLMTH', 'MORTCONF', 'ENROLL1', 'ENROLL2', 'ENROLL3',\n",
       "       'TEACH1', 'TEACH2', 'TEACH3', 'TEACH4', 'TEACH5', 'COMPAVAIL', 'COMP1',\n",
       "       'COMP2', 'COMP3', 'INTRNTAVAIL', 'INTRNT1', 'INTRNT2', 'INTRNT3',\n",
       "       'TSCHLHRS', 'TTCH_HRS', 'INCOME'],\n",
       "      dtype='object')"
      ]
     },
     "execution_count": 30,
     "metadata": {},
     "output_type": "execute_result"
    }
   ],
   "source": [
    "# read in data\n",
    "df = pd.read_csv('./pulse2020_puf_01.csv')\n",
    "print('(rows, columns): '+str(df.shape))\n",
    "# columns\n",
    "df.columns\n"
   ]
  },
  {
   "cell_type": "code",
   "execution_count": 4,
   "metadata": {},
   "outputs": [],
   "source": [
    "# Drop meaningless columns \n",
    "df.drop(['THHLD_NUMADLT', 'RSNNOWRK', 'FOODSUFRSN1','FOODSUFRSN2','FOODSUFRSN3','FOODSUFRSN4',\n",
    "                'FOODSUFRSN5', 'FREEFOOD','WHEREFREE1','WHEREFREE2','WHEREFREE3','WHEREFREE4',\n",
    "                'WHEREFREE5','WHEREFREE6','WHEREFREE7','TEACH1','TEACH2','TEACH3','TEACH4','TEACH5',\n",
    "                'MORTCONF','COMPAVAIL', 'COMP1','ABIRTH_YEAR', 'AGENDER', 'AHISPANIC', 'ARACE', 'AEDUC',\n",
    "              'COMP2', 'COMP3', 'INTRNTAVAIL', 'INTRNT1', 'INTRNT2', 'INTRNT3','INTRNTAVAIL','MORTCONF',\n",
    "             'TSCHLHRS', 'TTCH_HRS','AHHLD_NUMPER','AHHLD_NUMKID'], axis=1, inplace=True)\n",
    "             \n",
    "            "
   ]
  },
  {
   "cell_type": "code",
   "execution_count": 5,
   "metadata": {},
   "outputs": [],
   "source": [
    "#combined ANYWORK and KINDWORK as one categorical variable Employment status\n",
    "\n",
    "#6 categories: 5 sector of employment + unemployed\n",
    "# 1) Government\n",
    "# 2) Private company\n",
    "# 3) Non-profit organization including tax exempt and charitable organizations\n",
    "# 4) Self-employed\n",
    "# 5) Working in a family business\n",
    "# 6) unemployed\n",
    "cols = ['ANYWORK', 'KINDWORK']\n",
    "df['EMPSTATUS'] = df[cols].apply(lambda row: '_'.join(row.values.astype(str)), axis=1)\n",
    "df = df.replace({'EMPSTATUS' : { '1_2':2, '2_-88':6, '1_3':3, '1_1':1, '1_4':4, '1_5':5, '1_-99':np.nan, '-99_-88':np.nan}})\n"
   ]
  },
  {
   "cell_type": "code",
   "execution_count": 11,
   "metadata": {},
   "outputs": [
    {
     "data": {
      "text/plain": [
       "0        2.0\n",
       "1        6.0\n",
       "2        3.0\n",
       "3        6.0\n",
       "4        3.0\n",
       "        ... \n",
       "74408    2.0\n",
       "74409    1.0\n",
       "74410    3.0\n",
       "74411    6.0\n",
       "74412    6.0\n",
       "Name: EMPSTATUS, Length: 74413, dtype: float64"
      ]
     },
     "execution_count": 11,
     "metadata": {},
     "output_type": "execute_result"
    }
   ],
   "source": [
    "#replace floats?\n",
    "df['EMPSTATUS']"
   ]
  },
  {
   "cell_type": "code",
   "execution_count": 36,
   "metadata": {},
   "outputs": [
    {
     "data": {
      "text/html": [
       "<div>\n",
       "<style scoped>\n",
       "    .dataframe tbody tr th:only-of-type {\n",
       "        vertical-align: middle;\n",
       "    }\n",
       "\n",
       "    .dataframe tbody tr th {\n",
       "        vertical-align: top;\n",
       "    }\n",
       "\n",
       "    .dataframe thead th {\n",
       "        text-align: right;\n",
       "    }\n",
       "</style>\n",
       "<table border=\"1\" class=\"dataframe\">\n",
       "  <thead>\n",
       "    <tr style=\"text-align: right;\">\n",
       "      <th></th>\n",
       "      <th>HLTHINS1</th>\n",
       "      <th>HLTHINS2</th>\n",
       "      <th>HLTHINS3</th>\n",
       "      <th>HLTHINS4</th>\n",
       "      <th>HLTHINS5</th>\n",
       "      <th>HLTHINS6</th>\n",
       "      <th>HLTHINS7</th>\n",
       "      <th>HLTHINS8</th>\n",
       "      <th>HLTHINS</th>\n",
       "    </tr>\n",
       "  </thead>\n",
       "  <tbody>\n",
       "    <tr>\n",
       "      <th>0</th>\n",
       "      <td>1</td>\n",
       "      <td>2</td>\n",
       "      <td>2</td>\n",
       "      <td>2</td>\n",
       "      <td>2</td>\n",
       "      <td>2</td>\n",
       "      <td>2</td>\n",
       "      <td>2</td>\n",
       "      <td>1</td>\n",
       "    </tr>\n",
       "    <tr>\n",
       "      <th>1</th>\n",
       "      <td>2</td>\n",
       "      <td>2</td>\n",
       "      <td>1</td>\n",
       "      <td>2</td>\n",
       "      <td>2</td>\n",
       "      <td>2</td>\n",
       "      <td>2</td>\n",
       "      <td>-99</td>\n",
       "      <td>1</td>\n",
       "    </tr>\n",
       "    <tr>\n",
       "      <th>2</th>\n",
       "      <td>1</td>\n",
       "      <td>2</td>\n",
       "      <td>2</td>\n",
       "      <td>2</td>\n",
       "      <td>2</td>\n",
       "      <td>2</td>\n",
       "      <td>2</td>\n",
       "      <td>2</td>\n",
       "      <td>1</td>\n",
       "    </tr>\n",
       "    <tr>\n",
       "      <th>3</th>\n",
       "      <td>2</td>\n",
       "      <td>2</td>\n",
       "      <td>2</td>\n",
       "      <td>2</td>\n",
       "      <td>2</td>\n",
       "      <td>2</td>\n",
       "      <td>2</td>\n",
       "      <td>1</td>\n",
       "      <td>1</td>\n",
       "    </tr>\n",
       "    <tr>\n",
       "      <th>4</th>\n",
       "      <td>1</td>\n",
       "      <td>2</td>\n",
       "      <td>2</td>\n",
       "      <td>2</td>\n",
       "      <td>2</td>\n",
       "      <td>2</td>\n",
       "      <td>2</td>\n",
       "      <td>2</td>\n",
       "      <td>1</td>\n",
       "    </tr>\n",
       "    <tr>\n",
       "      <th>...</th>\n",
       "      <td>...</td>\n",
       "      <td>...</td>\n",
       "      <td>...</td>\n",
       "      <td>...</td>\n",
       "      <td>...</td>\n",
       "      <td>...</td>\n",
       "      <td>...</td>\n",
       "      <td>...</td>\n",
       "      <td>...</td>\n",
       "    </tr>\n",
       "    <tr>\n",
       "      <th>74408</th>\n",
       "      <td>1</td>\n",
       "      <td>2</td>\n",
       "      <td>2</td>\n",
       "      <td>2</td>\n",
       "      <td>2</td>\n",
       "      <td>2</td>\n",
       "      <td>2</td>\n",
       "      <td>1</td>\n",
       "      <td>1</td>\n",
       "    </tr>\n",
       "    <tr>\n",
       "      <th>74409</th>\n",
       "      <td>1</td>\n",
       "      <td>2</td>\n",
       "      <td>1</td>\n",
       "      <td>2</td>\n",
       "      <td>2</td>\n",
       "      <td>2</td>\n",
       "      <td>2</td>\n",
       "      <td>-99</td>\n",
       "      <td>1</td>\n",
       "    </tr>\n",
       "    <tr>\n",
       "      <th>74410</th>\n",
       "      <td>1</td>\n",
       "      <td>-99</td>\n",
       "      <td>-99</td>\n",
       "      <td>-99</td>\n",
       "      <td>-99</td>\n",
       "      <td>-99</td>\n",
       "      <td>-99</td>\n",
       "      <td>-99</td>\n",
       "      <td>1</td>\n",
       "    </tr>\n",
       "    <tr>\n",
       "      <th>74411</th>\n",
       "      <td>1</td>\n",
       "      <td>2</td>\n",
       "      <td>2</td>\n",
       "      <td>2</td>\n",
       "      <td>2</td>\n",
       "      <td>2</td>\n",
       "      <td>2</td>\n",
       "      <td>2</td>\n",
       "      <td>1</td>\n",
       "    </tr>\n",
       "    <tr>\n",
       "      <th>74412</th>\n",
       "      <td>1</td>\n",
       "      <td>2</td>\n",
       "      <td>1</td>\n",
       "      <td>2</td>\n",
       "      <td>2</td>\n",
       "      <td>2</td>\n",
       "      <td>2</td>\n",
       "      <td>2</td>\n",
       "      <td>1</td>\n",
       "    </tr>\n",
       "  </tbody>\n",
       "</table>\n",
       "<p>74413 rows × 9 columns</p>\n",
       "</div>"
      ],
      "text/plain": [
       "       HLTHINS1  HLTHINS2  HLTHINS3  HLTHINS4  HLTHINS5  HLTHINS6  HLTHINS7  \\\n",
       "0             1         2         2         2         2         2         2   \n",
       "1             2         2         1         2         2         2         2   \n",
       "2             1         2         2         2         2         2         2   \n",
       "3             2         2         2         2         2         2         2   \n",
       "4             1         2         2         2         2         2         2   \n",
       "...         ...       ...       ...       ...       ...       ...       ...   \n",
       "74408         1         2         2         2         2         2         2   \n",
       "74409         1         2         1         2         2         2         2   \n",
       "74410         1       -99       -99       -99       -99       -99       -99   \n",
       "74411         1         2         2         2         2         2         2   \n",
       "74412         1         2         1         2         2         2         2   \n",
       "\n",
       "       HLTHINS8  HLTHINS  \n",
       "0             2        1  \n",
       "1           -99        1  \n",
       "2             2        1  \n",
       "3             1        1  \n",
       "4             2        1  \n",
       "...         ...      ...  \n",
       "74408         1        1  \n",
       "74409       -99        1  \n",
       "74410       -99        1  \n",
       "74411         2        1  \n",
       "74412         2        1  \n",
       "\n",
       "[74413 rows x 9 columns]"
      ]
     },
     "execution_count": 36,
     "metadata": {},
     "output_type": "execute_result"
    }
   ],
   "source": [
    "# combine HLTHINS columns\n",
    "HLTHINS_cols =  df.columns[df.columns.str.startswith('HLTHINS')]\n",
    "HLTHINS_cols\n",
    "df[HLTHINS_cols]\n"
   ]
  },
  {
   "cell_type": "code",
   "execution_count": 37,
   "metadata": {},
   "outputs": [
    {
     "data": {
      "text/plain": [
       "0                     1-2-2-2-2-2-2-2-1\n",
       "1                   2-2-1-2-2-2-2--99-1\n",
       "2                     1-2-2-2-2-2-2-2-1\n",
       "3                     2-2-2-2-2-2-2-1-1\n",
       "4                     1-2-2-2-2-2-2-2-1\n",
       "5       1--99--99--99--99--99--99--99-1\n",
       "6                     1-1-2-2-2-2-2-2-1\n",
       "7                     1-2-2-2-2-2-2-2-1\n",
       "8                     2-2-2-1-2-2-2-2-1\n",
       "9                     1-2-2-2-2-2-2-2-1\n",
       "10                    1-2-2-2-2-2-2-2-1\n",
       "11                  2-2-1-2--99-1-2-2-1\n",
       "12        1--99-1--99--99--99--99--99-1\n",
       "13        1--99-1--99--99--99--99--99-1\n",
       "14        1--99--99--99--99-1--99--99-1\n",
       "15                    1-2-2-2-2-2-2-2-1\n",
       "16    -88--88--88--88--88--88--88--88-2\n",
       "Name: HLTHINS, dtype: object"
      ]
     },
     "execution_count": 37,
     "metadata": {},
     "output_type": "execute_result"
    }
   ],
   "source": [
    "df['HLTHINS'] = df[HLTHINS_cols].astype(str).agg('-'.join, axis=1)\n",
    "df['HLTHINS'].head(17)"
   ]
  },
  {
   "cell_type": "code",
   "execution_count": 38,
   "metadata": {},
   "outputs": [],
   "source": [
    "hasOne = df[\"HLTHINS\"].str.contains(\"1\")\n",
    "#1 --> has at least 1 insurance\n",
    "df[\"HLTHINS\"] = np.where(hasOne, \"1\", df[\"HLTHINS\"])\n",
    "#2 --> no \"1\" in any column, meaning no insurance\n",
    "df[\"HLTHINS\"] = np.where(~hasOne, \"2\", df[\"HLTHINS\"])"
   ]
  },
  {
   "cell_type": "code",
   "execution_count": 39,
   "metadata": {},
   "outputs": [],
   "source": [
    "#1: insured\n",
    "#2: uninsured\n",
    "df = df.replace({'HLTHINS' : { '1':1, '2':2}})"
   ]
  },
  {
   "cell_type": "code",
   "execution_count": 40,
   "metadata": {},
   "outputs": [
    {
     "data": {
      "text/plain": [
       "array([1, 2])"
      ]
     },
     "execution_count": 40,
     "metadata": {},
     "output_type": "execute_result"
    }
   ],
   "source": [
    "df[\"HLTHINS\"].unique()"
   ]
  },
  {
   "cell_type": "code",
   "execution_count": 24,
   "metadata": {},
   "outputs": [
    {
     "data": {
      "text/plain": [
       "0       NaN\n",
       "1       NaN\n",
       "2       NaN\n",
       "3       NaN\n",
       "4       NaN\n",
       "         ..\n",
       "74408   NaN\n",
       "74409   NaN\n",
       "74410   NaN\n",
       "74411   NaN\n",
       "74412   NaN\n",
       "Name: EST_MSA, Length: 74413, dtype: float64"
      ]
     },
     "execution_count": 24,
     "metadata": {},
     "output_type": "execute_result"
    }
   ],
   "source": [
    "df['EST_MSA']\n",
    "df.drop('EST_MSA', axis=1, inplace=True)"
   ]
  },
  {
   "cell_type": "code",
   "execution_count": 67,
   "metadata": {},
   "outputs": [
    {
     "data": {
      "text/plain": [
       "0        18\n",
       "1        30\n",
       "2         8\n",
       "3        32\n",
       "4        14\n",
       "         ..\n",
       "74408    28\n",
       "74409    12\n",
       "74410    12\n",
       "74411    16\n",
       "74412     8\n",
       "Name: MH_STATUS, Length: 74413, dtype: int64"
      ]
     },
     "execution_count": 67,
     "metadata": {},
     "output_type": "execute_result"
    }
   ],
   "source": [
    "#create overall indication of mental health (mental health columns 32. 1 best 4 worst) \n",
    "# add them up to create an ordinal score of 4 - 16 to measure overall mental health\n",
    "mh_cols = ['ANXIOUS', 'WORRY','INTEREST', 'DOWN']\n",
    "#weights can be changed\n",
    "weights = [[1],[1],[1],[1]]\n",
    "\n",
    "#df['MH_STATUS'] = df[mh_cols].sum(axis=1)\n",
    "df['MH_STATUS'] = df[mh_cols].apply(lambda row: row*weights[0]).sum(axis=1)\n",
    "df['MH_STATUS']"
   ]
  },
  {
   "cell_type": "code",
   "execution_count": 20,
   "metadata": {},
   "outputs": [
    {
     "data": {
      "text/plain": [
       "array([4, 2, 8, 1, 6, 5, 3, 7])"
      ]
     },
     "execution_count": 20,
     "metadata": {},
     "output_type": "execute_result"
    }
   ],
   "source": [
    "\n",
    "#replace missing income buckets with mode\n",
    "df = df.replace({'INCOME' : { -99:df['INCOME'].mode(),-88:df['INCOME'].mode()}})\n",
    "df['INCOME'].unique()"
   ]
  },
  {
   "cell_type": "code",
   "execution_count": 42,
   "metadata": {},
   "outputs": [
    {
     "data": {
      "text/html": [
       "<div>\n",
       "<style scoped>\n",
       "    .dataframe tbody tr th:only-of-type {\n",
       "        vertical-align: middle;\n",
       "    }\n",
       "\n",
       "    .dataframe tbody tr th {\n",
       "        vertical-align: top;\n",
       "    }\n",
       "\n",
       "    .dataframe thead th {\n",
       "        text-align: right;\n",
       "    }\n",
       "</style>\n",
       "<table border=\"1\" class=\"dataframe\">\n",
       "  <thead>\n",
       "    <tr style=\"text-align: right;\">\n",
       "      <th></th>\n",
       "      <th>INCOME</th>\n",
       "      <th>TSPNDFOOD</th>\n",
       "      <th>IMEAN_TSPNDFOOD</th>\n",
       "    </tr>\n",
       "  </thead>\n",
       "  <tbody>\n",
       "    <tr>\n",
       "      <th>0</th>\n",
       "      <td>4</td>\n",
       "      <td>100</td>\n",
       "      <td>163.393496</td>\n",
       "    </tr>\n",
       "    <tr>\n",
       "      <th>1</th>\n",
       "      <td>2</td>\n",
       "      <td>30</td>\n",
       "      <td>150.789431</td>\n",
       "    </tr>\n",
       "    <tr>\n",
       "      <th>2</th>\n",
       "      <td>8</td>\n",
       "      <td>150</td>\n",
       "      <td>244.202452</td>\n",
       "    </tr>\n",
       "    <tr>\n",
       "      <th>3</th>\n",
       "      <td>1</td>\n",
       "      <td>100</td>\n",
       "      <td>151.492202</td>\n",
       "    </tr>\n",
       "    <tr>\n",
       "      <th>4</th>\n",
       "      <td>4</td>\n",
       "      <td>150</td>\n",
       "      <td>163.393496</td>\n",
       "    </tr>\n",
       "    <tr>\n",
       "      <th>...</th>\n",
       "      <td>...</td>\n",
       "      <td>...</td>\n",
       "      <td>...</td>\n",
       "    </tr>\n",
       "    <tr>\n",
       "      <th>74408</th>\n",
       "      <td>5</td>\n",
       "      <td>0</td>\n",
       "      <td>174.145901</td>\n",
       "    </tr>\n",
       "    <tr>\n",
       "      <th>74409</th>\n",
       "      <td>-99</td>\n",
       "      <td>50</td>\n",
       "      <td>62.160377</td>\n",
       "    </tr>\n",
       "    <tr>\n",
       "      <th>74410</th>\n",
       "      <td>5</td>\n",
       "      <td>80</td>\n",
       "      <td>174.145901</td>\n",
       "    </tr>\n",
       "    <tr>\n",
       "      <th>74411</th>\n",
       "      <td>8</td>\n",
       "      <td>200</td>\n",
       "      <td>244.202452</td>\n",
       "    </tr>\n",
       "    <tr>\n",
       "      <th>74412</th>\n",
       "      <td>8</td>\n",
       "      <td>200</td>\n",
       "      <td>244.202452</td>\n",
       "    </tr>\n",
       "  </tbody>\n",
       "</table>\n",
       "<p>74413 rows × 3 columns</p>\n",
       "</div>"
      ],
      "text/plain": [
       "       INCOME  TSPNDFOOD  IMEAN_TSPNDFOOD\n",
       "0           4        100       163.393496\n",
       "1           2         30       150.789431\n",
       "2           8        150       244.202452\n",
       "3           1        100       151.492202\n",
       "4           4        150       163.393496\n",
       "...       ...        ...              ...\n",
       "74408       5          0       174.145901\n",
       "74409     -99         50        62.160377\n",
       "74410       5         80       174.145901\n",
       "74411       8        200       244.202452\n",
       "74412       8        200       244.202452\n",
       "\n",
       "[74413 rows x 3 columns]"
      ]
     },
     "execution_count": 42,
     "metadata": {},
     "output_type": "execute_result"
    }
   ],
   "source": [
    "#create a column for the mean of TSPNDFOOD of that income group\n",
    "df['IMEAN_TSPNDFOOD'] = df.groupby(['INCOME'])['TSPNDFOOD'].transform('mean') \n",
    "cols = ['INCOME','TSPNDFOOD','IMEAN_TSPNDFOOD']\n",
    "df[cols]\n"
   ]
  },
  {
   "cell_type": "code",
   "execution_count": 43,
   "metadata": {},
   "outputs": [],
   "source": [
    "#replace missing values with average instead of 0 \n",
    "# (use household income category average as predicator for food spending) \n",
    "df = df.replace({'TSPNDFOOD' : { -99:df['IMEAN_TSPNDFOOD'], -88:df['IMEAN_TSPNDFOOD']}})"
   ]
  },
  {
   "cell_type": "code",
   "execution_count": 44,
   "metadata": {},
   "outputs": [],
   "source": [
    "#mean of TSPNDPRPD of that income group\n",
    "df['IMEAN_TSPNDPRPD'] = df.groupby(['INCOME'])['TSPNDPRPD'].transform('mean') \n",
    "df = df.replace({'TSPNDPRPD' : { -99:df['IMEAN_TSPNDPRPD'], -88:df['IMEAN_TSPNDPRPD']}})\n",
    "#df['TSPNDPRPD'][df['TSPNDPRPD']==-88]\n"
   ]
  },
  {
   "cell_type": "code",
   "execution_count": 45,
   "metadata": {},
   "outputs": [],
   "source": [
    "#add TSPNDFOOD, TSPNDPRPD columns together to create one variable: household money spent on food in last 7 days\n",
    "# replacing missing values with 0s\n",
    "# df['TSPNDFOOD'][df['TSPNDFOOD'] < 0] = np.nan\n",
    "# df['TSPNDPRPD'][df['TSPNDPRPD'] < 0] = np.nan\n",
    "df['FOODCOST'] = df['TSPNDFOOD'] + df['TSPNDPRPD']"
   ]
  },
  {
   "cell_type": "code",
   "execution_count": 46,
   "metadata": {},
   "outputs": [
    {
     "data": {
      "text/plain": [
       "0        160.0\n",
       "1         30.0\n",
       "2        200.0\n",
       "3        200.0\n",
       "4        165.0\n",
       "         ...  \n",
       "74408     30.0\n",
       "74409     80.0\n",
       "74410    115.0\n",
       "74411    270.0\n",
       "74412    200.0\n",
       "Name: FOODCOST, Length: 74413, dtype: float64"
      ]
     },
     "execution_count": 46,
     "metadata": {},
     "output_type": "execute_result"
    }
   ],
   "source": [
    "df['FOODCOST']"
   ]
  },
  {
   "cell_type": "code",
   "execution_count": 50,
   "metadata": {},
   "outputs": [
    {
     "data": {
      "text/plain": [
       "array(['3_1', '2_1', '2_3', '2_2', '1_1', '3_2', '4_1', '3_3'],\n",
       "      dtype=object)"
      ]
     },
     "execution_count": 50,
     "metadata": {},
     "output_type": "execute_result"
    }
   ],
   "source": [
    "#combine TENURE and MORTLMTH columns as one categorical variable: \n",
    "# 3 categories: \n",
    "# 1. Owned or occupied no payment\n",
    "# 2. rent or mortgage payment on time\n",
    "# 3. rent or mortgage payment late, \n",
    "cols = ['TENURE', 'MORTLMTH']\n",
    "df['HOUSESTATUS'] = df[cols].apply(lambda row: '_'.join(row.values.astype(str)), axis=1)\n",
    "#use mode to replace missing values\n",
    "df = df.replace(\n",
    "    {'MORTLMTH' : { -99:df['MORTLMTH'].mode(), -88:df['MORTLMTH'].mode()},\n",
    "    'TENURE' : { -99:df['TENURE'].mode(), -88:df['TENURE'].mode()}\n",
    "\n",
    "})\n",
    "df['HOUSESTATUS'].unique()"
   ]
  },
  {
   "cell_type": "code",
   "execution_count": 51,
   "metadata": {},
   "outputs": [],
   "source": [
    "df = df.replace({'HOUSESTATUS' : { '3_1':2, '2_1':2, '2_3':3, '2_2':2, '1_1':1, \n",
    "       '3_2':3, '4_1':1, '3_3':3}})"
   ]
  },
  {
   "cell_type": "code",
   "execution_count": 52,
   "metadata": {},
   "outputs": [
    {
     "data": {
      "text/plain": [
       "array([2, 3, 1])"
      ]
     },
     "execution_count": 52,
     "metadata": {},
     "output_type": "execute_result"
    }
   ],
   "source": [
    "df['HOUSESTATUS'].unique()"
   ]
  },
  {
   "cell_type": "code",
   "execution_count": 53,
   "metadata": {},
   "outputs": [],
   "source": [
    "#combine ENROLL1,ENROLL2,ENROLL3 columns into one categorical variable: \n",
    "# 1. children enrolled in school, \n",
    "# 2. homeschooled, \n",
    "# 3. not enrolled in school\n",
    "cols = ['ENROLL1','ENROLL2','ENROLL3']\n",
    "df['CHILDENROLL'] = df[cols].apply(lambda row: '_'.join(row.values.astype(str)), axis=1)\n",
    "df['CHILDENROLL'].unique()\n",
    "df = df.replace({'CHILDENROLL' : {'1.0_nan_nan': 1, 'nan_nan_nan':np.nan, 'nan_nan_1.0':3, 'nan_1.0_nan':2, '1.0_1.0_nan':np.nan\n",
    "        }})"
   ]
  },
  {
   "cell_type": "code",
   "execution_count": 54,
   "metadata": {},
   "outputs": [
    {
     "name": "stdout",
     "output_type": "stream",
     "text": [
      "['MS', 'WRKLOSS', 'EXPCTLOSS', 'ANYWORK', 'KINDWORK', 'RSNNOWRK', 'UNEMPPAY', 'PRIFOODSUF', 'CURFOODSUF', 'FOODSUFRSN1', 'FOODSUFRSN2', 'FOODSUFRSN3', 'FOODSUFRSN4', 'FOODSUFRSN5', 'FREEFOOD', 'WHEREFREE1', 'WHEREFREE2', 'WHEREFREE3', 'WHEREFREE4', 'WHEREFREE5', 'WHEREFREE6', 'WHEREFREE7', 'FOODCONF', 'HLTHSTATUS', 'ANXIOUS', 'WORRY', 'INTEREST', 'DOWN', 'HLTHINS1', 'HLTHINS2', 'HLTHINS3', 'HLTHINS4', 'HLTHINS5', 'HLTHINS6', 'HLTHINS7', 'HLTHINS8', 'DELAY', 'NOTGET', 'MORTCONF', 'ENROLL1', 'ENROLL2', 'ENROLL3', 'TEACH1', 'TEACH2', 'TEACH3', 'TEACH4', 'TEACH5', 'COMPAVAIL', 'COMP1', 'COMP2', 'COMP3', 'INTRNTAVAIL', 'INTRNT1', 'INTRNT2', 'INTRNT3', 'TSCHLHRS', 'TTCH_HRS', 'INCOME']\n"
     ]
    }
   ],
   "source": [
    "# get the list of columns that contain missing values \n",
    "missing_cols = [col for col in df.columns if (-99 in df[col].unique() or -88 in df[col].unique())]\n",
    "print(missing_cols)\n",
    "\n",
    "for col in missing_cols:\n",
    "    df[col] = df[col].replace(-99, np.nan)\n",
    "    df[col] = df[col].replace(-88, np.nan)"
   ]
  },
  {
   "cell_type": "code",
   "execution_count": null,
   "metadata": {},
   "outputs": [
    {
     "data": {
      "text/plain": [
       "0        36\n",
       "1        67\n",
       "2        46\n",
       "3        58\n",
       "4        59\n",
       "         ..\n",
       "74408    49\n",
       "74409    66\n",
       "74410    67\n",
       "74411    40\n",
       "74412    76\n",
       "Name: AGE, Length: 74413, dtype: int64"
      ]
     },
     "execution_count": 74,
     "metadata": {},
     "output_type": "execute_result"
    }
   ],
   "source": [
    "# transform the birth year into age  \n",
    "df[\"AGE\"] = 2022 - df['TBIRTH_YEAR'] \n",
    "df[\"AGE\"]\n"
   ]
  },
  {
   "cell_type": "code",
   "execution_count": null,
   "metadata": {},
   "outputs": [
    {
     "data": {
      "text/plain": [
       "0        2\n",
       "1        5\n",
       "2        3\n",
       "3        4\n",
       "4        4\n",
       "        ..\n",
       "74408    3\n",
       "74409    5\n",
       "74410    5\n",
       "74411    3\n",
       "74412    6\n",
       "Name: AGEGROUP, Length: 74413, dtype: category\n",
       "Categories (8, int64): [0 < 1 < 2 < 3 < 4 < 5 < 6 < 7]"
      ]
     },
     "execution_count": 75,
     "metadata": {},
     "output_type": "execute_result"
    }
   ],
   "source": [
    "#transform age into age groups \n",
    "# 1. 18 - 29\n",
    "# 2. 30 - 39\n",
    "# 3. 40 - 49\n",
    "# 4. 50 - 59\n",
    "# 5. 60 - 69\n",
    "# 6. 70 - 79\n",
    "# 7. 80 and above \n",
    "bins= [0,19,30,40,50,60,70,80,1000]\n",
    "labels = [0,1,2,3,4,5,6,7]\n",
    "df['AGEGROUP'] = pd.cut(df['AGE'], bins=bins, labels=labels, right=False)\n",
    "df['AGEGROUP']\n"
   ]
  },
  {
   "cell_type": "code",
   "execution_count": null,
   "metadata": {},
   "outputs": [
    {
     "name": "stdout",
     "output_type": "stream",
     "text": [
      "['ABIRTH_YEAR', 'EGENDER', 'AGENDER', 'RHISPANIC', 'AHISPANIC', 'ARACE', 'AEDUC', 'AHHLD_NUMPER', 'AHHLD_NUMKID', 'WRKLOSS', 'EXPCTLOSS', 'ANYWORK', 'HLTHINS1', 'HLTHINS2', 'HLTHINS3', 'HLTHINS4', 'HLTHINS5', 'HLTHINS6', 'HLTHINS7', 'HLTHINS8', 'DELAY', 'NOTGET']\n"
     ]
    }
   ],
   "source": [
    "\n",
    "#Majority of the columns are categorical, with number encoding. \n",
    "# Create dictionaries to have easy access to the descriptive categories. \n",
    "# If categorical variables are ordinal, we probably want to keep that order for visualization. \n",
    "# A lot of the binary variables should be recoded: instead of using 2 to represent No, \n",
    "# let’s use 0 as a more conventional way.\n",
    "# \n",
    "item = [1,2]\n",
    "s=df.where(df.isin(item)).columns\n",
    "\n",
    "binary_cols = [col for col in s if df[col].value_counts().index.size== 2 ]\n",
    "print(binary_cols)\n",
    "\n",
    "# instead of using 2 to represent No, let’s use 0 as a more conventional way. \n",
    "\n",
    "for col in binary_cols:\n",
    "    df[col] = df[col].replace(2, 0)\n",
    "    # convert variable types\n",
    "    df[col] = df[col].astype('category')    \n",
    "\n"
   ]
  },
  {
   "cell_type": "code",
   "execution_count": null,
   "metadata": {},
   "outputs": [],
   "source": []
  },
  {
   "cell_type": "markdown",
   "metadata": {},
   "source": [
    "## EDA and Visualizations\n"
   ]
  },
  {
   "cell_type": "markdown",
   "metadata": {},
   "source": [
    "In order to explore all the variables effeciently, we create grouped column names for easy access.\n",
    "- demographic: Age, Sex, Hispanic origin and Race, Education, Marital status\n",
    "- socioeconomic: Household size, Presence of children under 18 years old, Household income, Used in the last 7 days to meet spending needs\n",
    "<!-- specify them esp since they're categorical -->\n",
    "- health: Health status,Delay getting medical care because of the COVID-19 pandemic, Need medical care for something unrelated to COVID-19, but did not get it\n",
    "<!-- TODO -->\n",
    "- employment\n",
    "- food security and housing\n",
    "- children and school\n",
    "- internet access\n",
    "\n",
    "We also create two dictionaries to translate the number code for the ordinal variables. This is useful for adding informative labels in plots."
   ]
  },
  {
   "cell_type": "code",
   "execution_count": null,
   "metadata": {},
   "outputs": [],
   "source": [
    "# variable names by group\n",
    "demographic = ['TBIRTH_YEAR', 'EGENDER', 'RHISPANIC', 'EEDUC', 'MS']\n",
    "socioeconomic = ['THHLD_NUMPER', 'THHLD_NUMKID',  'INCOME', 'SPNDSRC1']\n",
    "health = ['HLTHSTATUS', 'DELAY', 'NOTGET', 'ANXIOUS', 'WORRY', 'INTEREST', 'DOWN']\n",
    "\n",
    "#dictionaries\n",
    "edu_dict = {1:'Less than a high school diploma', 2:'Less than a high school diploma',\n",
    "            3:'High school diploma or GED', 4:\"Some college/associate's degree\",\n",
    "            5:\"Some college/associate's degree\",\n",
    "            6:\"Bachelor's degree or higher\",\n",
    "            7:\"Bachelor's degree or higher\"}\n",
    "\n",
    "income_dict = {1:'Less than $25,000', \n",
    "             2:'$25,000 - $34,999', 3:'$35,000 - $49,999', \n",
    "             4: '$50,000 - $74,999', 5:'$75,000 - $99,999', \n",
    "             6:'$100,000 - $149,999',7:'$150,000 - $199,999',8:'$200,000 and above',\n",
    "              'MISSING VALUES':'Did not report',\n",
    "            }\n",
    "health_dict = {1:'Excellent', \n",
    "             2:'$25,000 - $34,999', 3:'$35,000 - $49,999', \n",
    "             4: '$50,000 - $74,999', 5:'$75,000 - $99,999'}\n",
    "\n",
    "mh_dict = {1:'Not at all', \n",
    "             2:'Several days', 3:'More than half the days', \n",
    "             4: 'Nearly every day', 'MISSING VALUES':'Did not report',\n",
    "            }\n",
    "\n",
    "            \n",
    "            "
   ]
  },
  {
   "cell_type": "markdown",
   "metadata": {},
   "source": [
    "Looking at the summary statistics of all personality measures, it is clear that these measurements are standardized as z-scores with mean 0 and standard deviation 1."
   ]
  },
  {
   "cell_type": "code",
   "execution_count": null,
   "metadata": {
    "scrolled": false
   },
   "outputs": [
    {
     "data": {
      "text/html": [
       "<div>\n",
       "<style scoped>\n",
       "    .dataframe tbody tr th:only-of-type {\n",
       "        vertical-align: middle;\n",
       "    }\n",
       "\n",
       "    .dataframe tbody tr th {\n",
       "        vertical-align: top;\n",
       "    }\n",
       "\n",
       "    .dataframe thead th {\n",
       "        text-align: right;\n",
       "    }\n",
       "</style>\n",
       "<table border=\"1\" class=\"dataframe\">\n",
       "  <thead>\n",
       "    <tr style=\"text-align: right;\">\n",
       "      <th></th>\n",
       "      <th>TBIRTH_YEAR</th>\n",
       "      <th>EEDUC</th>\n",
       "      <th>MS</th>\n",
       "    </tr>\n",
       "  </thead>\n",
       "  <tbody>\n",
       "    <tr>\n",
       "      <th>count</th>\n",
       "      <td>74413.000000</td>\n",
       "      <td>74413.000000</td>\n",
       "      <td>73869.000000</td>\n",
       "    </tr>\n",
       "    <tr>\n",
       "      <th>mean</th>\n",
       "      <td>1969.065136</td>\n",
       "      <td>5.199589</td>\n",
       "      <td>2.209411</td>\n",
       "    </tr>\n",
       "    <tr>\n",
       "      <th>std</th>\n",
       "      <td>15.681818</td>\n",
       "      <td>1.462415</td>\n",
       "      <td>1.597008</td>\n",
       "    </tr>\n",
       "    <tr>\n",
       "      <th>min</th>\n",
       "      <td>1932.000000</td>\n",
       "      <td>1.000000</td>\n",
       "      <td>1.000000</td>\n",
       "    </tr>\n",
       "    <tr>\n",
       "      <th>25%</th>\n",
       "      <td>1956.000000</td>\n",
       "      <td>4.000000</td>\n",
       "      <td>1.000000</td>\n",
       "    </tr>\n",
       "    <tr>\n",
       "      <th>50%</th>\n",
       "      <td>1970.000000</td>\n",
       "      <td>6.000000</td>\n",
       "      <td>1.000000</td>\n",
       "    </tr>\n",
       "    <tr>\n",
       "      <th>75%</th>\n",
       "      <td>1982.000000</td>\n",
       "      <td>6.000000</td>\n",
       "      <td>3.000000</td>\n",
       "    </tr>\n",
       "    <tr>\n",
       "      <th>max</th>\n",
       "      <td>2002.000000</td>\n",
       "      <td>7.000000</td>\n",
       "      <td>5.000000</td>\n",
       "    </tr>\n",
       "  </tbody>\n",
       "</table>\n",
       "</div>"
      ],
      "text/plain": [
       "        TBIRTH_YEAR         EEDUC            MS\n",
       "count  74413.000000  74413.000000  73869.000000\n",
       "mean    1969.065136      5.199589      2.209411\n",
       "std       15.681818      1.462415      1.597008\n",
       "min     1932.000000      1.000000      1.000000\n",
       "25%     1956.000000      4.000000      1.000000\n",
       "50%     1970.000000      6.000000      1.000000\n",
       "75%     1982.000000      6.000000      3.000000\n",
       "max     2002.000000      7.000000      5.000000"
      ]
     },
     "execution_count": 78,
     "metadata": {},
     "output_type": "execute_result"
    }
   ],
   "source": [
    "# summary stats for numerical variables EXCEPT FOR MS BC \"MISSING VALUES\"\n",
    "df[demographic].describe()"
   ]
  },
  {
   "cell_type": "markdown",
   "metadata": {},
   "source": [
    "Next, we creat a function to plot a pie chart for a categorical demographic variable to represent percetage makeup. "
   ]
  },
  {
   "cell_type": "code",
   "execution_count": null,
   "metadata": {},
   "outputs": [],
   "source": [
    "def demo_plot(df=df, col='EGENDER'):\n",
    "    '''\n",
    "    a function to visualize demographic makeup\n",
    "    input: \n",
    "    df is the datafram\n",
    "    col is the column name\n",
    "    output is piechart with percentage of each category for a given demographic variable\n",
    "    '''\n",
    "    series_plot = df[col].value_counts().sort_index()\n",
    "    series_plot.plot(kind='pie', autopct='%1.1f%%', title=col+' distribution').set_ylabel('');"
   ]
  },
  {
   "cell_type": "code",
   "execution_count": null,
   "metadata": {},
   "outputs": [
    {
     "data": {
      "image/png": "[encoded data removed]",
      "text/plain": [
       "<Figure size 432x288 with 1 Axes>"
      ]
     },
     "metadata": {},
     "output_type": "display_data"
    }
   ],
   "source": [
    "# gender distribution\n",
    "demo_plot()\n",
    "# age distribution\n",
    "#demo_plot(col='TBIRTH_YEAR')\n",
    "# country of residence distribution\n",
    "#demo_plot(col='Country')\n",
    "# race and ethnicity distribution\n",
    "#demo_plot(col='Ethnicity')\n",
    "# education level distribution\n",
    "#demo_plot(col='Education')"
   ]
  },
  {
   "cell_type": "markdown",
   "metadata": {},
   "source": [
    "[I HAVEN'T WORKED ON THINGS BELOW YET]\n",
    "Summary of demographics of the respondents:\n",
    "- balanced in gender\n",
    "- unbalanced in age, education and country:\n",
    "    - about 60% of age < 35\n",
    "    - 45% with university degree or higher\n",
    "    - 55% from UK, and 30% from US\n",
    "- extremely unbalanced in ethinicity:\n",
    "    - more than 90% white"
   ]
  },
  {
   "cell_type": "markdown",
   "metadata": {},
   "source": [
    "Next, we want to create an aggregated dataframe where each column is a drug, row index are the 7 categories of drug consumption, and the values are count of respondents corresponding to that drug and category. The goal here is to quickly identify the most consumed drugs based on the survey data."
   ]
  },
  {
   "cell_type": "code",
   "execution_count": null,
   "metadata": {
    "scrolled": false
   },
   "outputs": [
    {
     "ename": "NameError",
     "evalue": "name 'drugs' is not defined",
     "output_type": "error",
     "traceback": [
      "\u001b[0;31m---------------------------------------------------------------------------\u001b[0m",
      "\u001b[0;31mNameError\u001b[0m                                 Traceback (most recent call last)",
      "\u001b[0;32m/var/folders/k4/b_c48c8s6zgfmngnbzb7gyk00000gn/T/ipykernel_48766/861840472.py\u001b[0m in \u001b[0;36m<module>\u001b[0;34m\u001b[0m\n\u001b[1;32m      2\u001b[0m \u001b[0mdrug_agg\u001b[0m \u001b[0;34m=\u001b[0m \u001b[0mpd\u001b[0m\u001b[0;34m.\u001b[0m\u001b[0mDataFrame\u001b[0m\u001b[0;34m(\u001b[0m\u001b[0;34m)\u001b[0m\u001b[0;34m\u001b[0m\u001b[0;34m\u001b[0m\u001b[0m\n\u001b[1;32m      3\u001b[0m \u001b[0;31m# loop over all the columns in drugs group\u001b[0m\u001b[0;34m\u001b[0m\u001b[0;34m\u001b[0m\u001b[0m\n\u001b[0;32m----> 4\u001b[0;31m \u001b[0;32mfor\u001b[0m \u001b[0mcol\u001b[0m \u001b[0;32min\u001b[0m \u001b[0mdrugs\u001b[0m\u001b[0;34m:\u001b[0m\u001b[0;34m\u001b[0m\u001b[0;34m\u001b[0m\u001b[0m\n\u001b[0m\u001b[1;32m      5\u001b[0m     \u001b[0;31m# add column to the empty dataframe\u001b[0m\u001b[0;34m\u001b[0m\u001b[0;34m\u001b[0m\u001b[0m\n\u001b[1;32m      6\u001b[0m     \u001b[0;31m# column name is col\u001b[0m\u001b[0;34m\u001b[0m\u001b[0;34m\u001b[0m\u001b[0m\n",
      "\u001b[0;31mNameError\u001b[0m: name 'drugs' is not defined"
     ]
    }
   ],
   "source": [
    "# create a empty dataframe\n",
    "drug_agg = pd.DataFrame()\n",
    "# loop over all the columns in drugs group\n",
    "for col in drugs:\n",
    "    # add column to the empty dataframe\n",
    "    # column name is col\n",
    "    # column content is the value counts of col\n",
    "    drug_agg[col] = drug[col].value_counts().sort_index()\n",
    "\n",
    "drug_agg.fillna(0, inplace=True)\n",
    "drug_agg"
   ]
  },
  {
   "cell_type": "markdown",
   "metadata": {},
   "source": [
    "By aggregating the counts for each type of drugs into the 7 categories of consumption, it is clear that the most consumed drugs are the legal ones, as we expected.\n",
    "- consumption in descending order for \"used in last day\":\n",
    "     1. Caffeine\n",
    "     2. Chocolate\n",
    "     3. Nicotine\n",
    "     4. Alcohol\n",
    "     5. Cannabis\n",
    "     \n",
    "We create a bar chart for these legal durg consumptions for comparison. The most consumed drug is CAFFEINE of course!"
   ]
  },
  {
   "cell_type": "code",
   "execution_count": null,
   "metadata": {
    "scrolled": true
   },
   "outputs": [
    {
     "data": {
      "image/png": "[encoded data removed]",
      "text/plain": [
       "<Figure size 432x288 with 1 Axes>"
      ]
     },
     "metadata": {},
     "output_type": "display_data"
    }
   ],
   "source": [
    "# pick my legal drugs to plot\n",
    "legal_drugs = ['Alcohol','Caffeine','Cannabis','Chocolate','Nicotine']\n",
    "# bar chart for each legal drug\n",
    "drug_agg[legal_drugs].plot(kind='barh', title='Legal drug consumption').set_xlabel('count')\n",
    "# fix the label to be informative\n",
    "plt.yticks(np.arange(7), ['never used', 'used over a decade ago', 'used in last decade', 'used in last year', 'used in last month', 'used in last week', 'used in last day']);"
   ]
  },
  {
   "cell_type": "markdown",
   "metadata": {
    "id": "Oz07tyg39gsM"
   },
   "source": [
    "# Methods and Models"
   ]
  },
  {
   "cell_type": "markdown",
   "metadata": {
    "id": "VJWbygFF9gsM"
   },
   "source": [
    "## Hypothesis testing\n",
    "\n",
    "We are particularly interested in comparing personality measurements between male and female. We create a function that can implement the A/B testing and output results. Based on testing results, we conclude that male and female have significantly different personality measurements on average."
   ]
  },
  {
   "cell_type": "code",
   "execution_count": null,
   "metadata": {},
   "outputs": [],
   "source": [
    "def demo_pers_plot(df=drug, pers='Impulsive', demo='Gender'):\n",
    "    '''A function to create boxplot to compare a personality score\n",
    "        among demographic groups\n",
    "    '''\n",
    "    title = pers+' personality score by '+demo\n",
    "    sns.boxplot(data=df, x=demo, y=pers).set(title=title)"
   ]
  },
  {
   "cell_type": "code",
   "execution_count": null,
   "metadata": {},
   "outputs": [],
   "source": [
    "def AB_testing(df=drug, pers='Impulsive', demo='Gender', A='Female', B='Male', \n",
    "               reject_dir='both', alpha=95, rep=1000):\n",
    "    '''\n",
    "    function to conduct A/B testing based on a given categorical variable\n",
    "    and subcategories to define the A and B groups, \n",
    "    then compare the average personality measurement for the two groups\n",
    "    Inputs: \n",
    "        - pers: needs to be one of the columns in the list of personality: \n",
    "        ['Nscore', 'Escore', 'Oscore', 'Ascore', 'Cscore', 'Impulsive', 'SS']\n",
    "        - demo: needs to be one of the columns in the list of demographic:\n",
    "        ['Age', 'Gender', 'Education', 'Country', 'Ethnicity']\n",
    "        - A and B: need to be two of the values corresponding to the demo column\n",
    "          for example, male and female for gender, UK and US for country, etc\n",
    "        where the order of A and B should follow alphabetical order\n",
    "        - reject_dir: specify the direction of the tail to reject the null hypothesis\n",
    "          notice the difference is always calculated by Group A - Group B\n",
    "          so reject_tail should be:\n",
    "          left if Group A < Group B\n",
    "          right if Group A > Group B\n",
    "          both if just Group A and B are different\n",
    "        - alpha: significance level\n",
    "    Output: results based on permutation test and p-value\n",
    "    '''\n",
    "    # select columns and rows\n",
    "    df = df.loc[(df[demo].isin([A, B])), [demo, pers]]\n",
    "    # group by demo and aggregate by mean\n",
    "    group_tb = df.groupby(by=demo).mean()\n",
    "    print(\"Comparing means of:\")\n",
    "    print(group_tb)\n",
    "    obs_diff = group_tb.iloc[0, 0] - group_tb.iloc[1, 0]\n",
    "    \n",
    "    simu_diffs = []\n",
    "\n",
    "    for i in np.arange(rep):\n",
    "        # shuffle group label\n",
    "        shuffled_label = np.random.permutation(df[demo])\n",
    "        shuffled_df = df[[pers]]\n",
    "        shuffled_df['shuffled'] = shuffled_label\n",
    "        shuffled_group_tb = shuffled_df.groupby(by='shuffled').mean()\n",
    "        # calculated simulated diff\n",
    "        diff = shuffled_group_tb.iloc[0, 0] - group_tb.iloc[1, 0]\n",
    "        # append one simulated diff\n",
    "        simu_diffs = np.append(simu_diffs, diff)\n",
    "\n",
    "    # visualization\n",
    "    plt.hist(simu_diffs, alpha=0.5)\n",
    "    \n",
    "    if reject_dir=='right':\n",
    "        cut = np.percentile(simu_diffs, alpha)\n",
    "        plt.plot([cut,cut],[0,200], color='yellow')\n",
    "        #calculate p value\n",
    "        p_value = sum(simu_diffs >= obs_diff) / rep\n",
    "    elif reject_dir=='left':\n",
    "        cut = np.percentile(simu_diffs, 100-alpha)\n",
    "        plt.plot([cut,cut],[0,200], color='yellow')\n",
    "        #calculate p value\n",
    "        p_value = sum(simu_diffs <= obs_diff) / rep\n",
    "    else:\n",
    "        tail = (100-alpha)/2\n",
    "        cut_left = np.percentile(simu_diffs, tail)\n",
    "        cut_right = np.percentile(simu_diffs, 100-tail)\n",
    "        plt.plot([cut_left,cut_left],[0,200], color='yellow')\n",
    "        plt.plot([cut_right,cut_right],[0,200], color='yellow')\n",
    "        #calculate p value\n",
    "        p1 = sum(simu_diffs >= obs_diff) / rep\n",
    "        p2 = sum(simu_diffs <= obs_diff) / rep\n",
    "        p_value = min(p1, p2)*2\n",
    "\n",
    "    plt.scatter(obs_diff, 10, color = 'red', s=100)\n",
    "    plt.title('A/B testing: '+pers+' of '+A+' and '+B)\n",
    "\n",
    "    print('p_value: ' + str(p_value))"
   ]
  },
  {
   "cell_type": "markdown",
   "metadata": {
    "id": "UAokowZvb1nv"
   },
   "source": [
    "**Hypothesis Testing 1**"
   ]
  },
  {
   "cell_type": "code",
   "execution_count": null,
   "metadata": {},
   "outputs": [
    {
     "data": {
      "image/png": "[encoded data removed]",
      "text/plain": [
       "<Figure size 432x288 with 1 Axes>"
      ]
     },
     "metadata": {},
     "output_type": "display_data"
    }
   ],
   "source": [
    "# visualize to generate hypothesis\n",
    "#demo_pers_plot(pers='Nscore', demo='Gender')\n",
    "#demo_pers_plot(pers='Escore', demo='Gender')\n",
    "#demo_pers_plot(pers='Oscore', demo='Gender')\n",
    "#demo_pers_plot(pers='Ascore', demo='Gender')\n",
    "#demo_pers_plot(pers='Cscore', demo='Gender')\n",
    "demo_pers_plot(pers='Impulsive', demo='Gender')\n",
    "#demo_pers_plot(pers='SS', demo='Gender')"
   ]
  },
  {
   "cell_type": "markdown",
   "metadata": {},
   "source": [
    "**Null hypothesis:** male and female have the same Impulsive score on average.\n",
    "\n",
    "**Alternative hypothesis:** male have a higher Impulsive score on average than female.\n",
    "\n",
    "**Conclusion:** reject the null, and conclude male have a significantly higher Impulsive score on average than female."
   ]
  },
  {
   "cell_type": "code",
   "execution_count": null,
   "metadata": {
    "scrolled": true
   },
   "outputs": [
    {
     "name": "stdout",
     "output_type": "stream",
     "text": [
      "Comparing means of:\n",
      "        Impulsive\n",
      "Gender           \n",
      "Female  -0.152686\n",
      "Male     0.166949\n",
      "p_value: 0.0\n"
     ]
    },
    {
     "data": {
      "image/png": "[encoded data removed]",
      "text/plain": [
       "<Figure size 432x288 with 1 Axes>"
      ]
     },
     "metadata": {},
     "output_type": "display_data"
    }
   ],
   "source": [
    "# call the function to conduct the A/B testing\n",
    "AB_testing(df=drug, pers='Impulsive', demo='Gender', A='Female', B='Male',\n",
    "          reject_dir='left')"
   ]
  },
  {
   "cell_type": "markdown",
   "metadata": {
    "id": "UAokowZvb1nv"
   },
   "source": [
    "**Hypothesis Testing 2**\n",
    "\n",
    "Null hypothesis: male and female have the same Escore on average.\n",
    "\n",
    "Alternative hypothesis: male and femalea have significant different Escore on average.\n",
    "\n",
    "Conclusion: reject the null, and conclude male and female have significantly different Escore on average."
   ]
  },
  {
   "cell_type": "code",
   "execution_count": null,
   "metadata": {},
   "outputs": [
    {
     "name": "stdout",
     "output_type": "stream",
     "text": [
      "Comparing means of:\n",
      "          Escore\n",
      "Gender          \n",
      "Female  0.057569\n",
      "Male   -0.057834\n",
      "p_value: 0.008\n"
     ]
    },
    {
     "data": {
      "image/png": "[encoded data removed]",
      "text/plain": [
       "<Figure size 432x288 with 1 Axes>"
      ]
     },
     "metadata": {},
     "output_type": "display_data"
    }
   ],
   "source": [
    "# call the function to conduct the A/B testing\n",
    "AB_testing(df=drug, pers='Escore', demo='Gender', A='Female', B='Male',\n",
    "          reject_dir='both')"
   ]
  },
  {
   "cell_type": "markdown",
   "metadata": {
    "id": "SsA4fN0n9gsO"
   },
   "source": [
    "## Random Forest Classifier"
   ]
  },
  {
   "cell_type": "markdown",
   "metadata": {},
   "source": [
    "Finally, we build a machine learning model to predict a drug consumption based on demographic and personality scores. We decide to engineer a response feature of 3 categories based on the 7 survey responses:\n",
    "- never: never used\n",
    "- light: used over a decade ago, in last decade or last year\n",
    "- heavy: used in last month, week or day\n",
    "\n",
    "We will use all the demographic and personality score as features. Because the demographic are all categorical, to avoid over-fitting, we will restrict a tuning parameter in the random forest model, to require the minimum number of samples at a leaf node to be at least 5. This can be achieved by setting the hyper parameter min_samples_leaf = 5. "
   ]
  },
  {
   "cell_type": "code",
   "execution_count": null,
   "metadata": {},
   "outputs": [],
   "source": [
    "# can change the drug_name to predict another one\n",
    "drug_name = 'Cannabis'\n",
    "y_dict = {0:'never', 1:'light', 2:'light', 3:'light', \n",
    "            4:'heavy', 5:'heavy', 6:'heavy'}\n",
    "# create the response feature\n",
    "y = drug[drug_name].replace(y_dict)\n",
    "\n",
    "# create feature matrix\n",
    "X = drug[demographic+personality]\n",
    "# get all dummy encoding\n",
    "X_dummy = pd.get_dummies(X)\n",
    "# print out columns to make sure dummy encoding is correct\n",
    "#X_dummy.columns \n",
    "# looks good"
   ]
  },
  {
   "cell_type": "code",
   "execution_count": null,
   "metadata": {
    "colab": {
     "base_uri": "https://localhost:8080/"
    },
    "id": "j8-bFtjv2RRV",
    "outputId": "edbc31eb-16af-4296-e8d3-d4724eb0fa22"
   },
   "outputs": [],
   "source": [
    "from sklearn.model_selection import train_test_split\n",
    "X_train, X_test, y_train, y_test = train_test_split(X_dummy, y, test_size=0.2, random_state=2022)\n",
    "\n",
    "from sklearn.ensemble import RandomForestClassifier\n",
    "# let's grow 500 trees in the forest, this is one of the hyperparameters\n",
    "# we are using all default choices of other hyperparameters \n",
    "model = RandomForestClassifier(n_estimators=500, min_samples_leaf=5)\n",
    "# fit model on train data\n",
    "model.fit(X_train, y_train)\n",
    "# predict on both train and test data\n",
    "y_train_hat = model.predict(X_train)\n",
    "y_test_hat = model.predict(X_test)"
   ]
  },
  {
   "cell_type": "code",
   "execution_count": null,
   "metadata": {},
   "outputs": [
    {
     "name": "stdout",
     "output_type": "stream",
     "text": [
      "Train data performance:\n",
      "              precision    recall  f1-score   support\n",
      "\n",
      "       heavy       0.80      0.90      0.85       615\n",
      "       light       0.76      0.73      0.75       558\n",
      "       never       0.86      0.71      0.78       335\n",
      "\n",
      "    accuracy                           0.80      1508\n",
      "   macro avg       0.81      0.78      0.79      1508\n",
      "weighted avg       0.80      0.80      0.79      1508\n",
      "\n",
      "Test data performance:\n",
      "              precision    recall  f1-score   support\n",
      "\n",
      "       heavy       0.76      0.84      0.80       173\n",
      "       light       0.50      0.55      0.52       126\n",
      "       never       0.58      0.36      0.44        78\n",
      "\n",
      "    accuracy                           0.64       377\n",
      "   macro avg       0.61      0.58      0.59       377\n",
      "weighted avg       0.64      0.64      0.63       377\n",
      "\n"
     ]
    }
   ],
   "source": [
    "# Look at performance measure on both train and test sets:\n",
    "from sklearn import metrics\n",
    "print(\"Train data performance:\")\n",
    "print(metrics.classification_report(y_train, y_train_hat))\n",
    "print(\"Test data performance:\")\n",
    "print(metrics.classification_report(y_test, y_test_hat))"
   ]
  },
  {
   "cell_type": "code",
   "execution_count": null,
   "metadata": {
    "id": "pL6BVpl9-_4b",
    "scrolled": true
   },
   "outputs": [
    {
     "data": {
      "image/png": "[encoded data removed]",
      "text/plain": [
       "<Figure size 432x288 with 2 Axes>"
      ]
     },
     "metadata": {},
     "output_type": "display_data"
    }
   ],
   "source": [
    "# Look at confusion matrix on test set only\n",
    "from sklearn.metrics import confusion_matrix\n",
    "cm = confusion_matrix(y_test, y_test_hat)\n",
    "sns.heatmap(cm, annot=True, fmt='g',\n",
    "            xticklabels=['pred_heavy','pred_light','pred_never'], \n",
    "            yticklabels=['heavy','light','never']);"
   ]
  },
  {
   "cell_type": "markdown",
   "metadata": {},
   "source": [
    "Looking at the results of the random forest classifier, we notice the test set performance is quite decent in this case, only slightly worse than train set performance. In general, the model is able to predict Cannabis users with decent accuracy, in particular, for heavy users.  "
   ]
  },
  {
   "cell_type": "markdown",
   "metadata": {
    "id": "9vjQSF349gsP"
   },
   "source": [
    "# Discussion"
   ]
  }
 ],
 "metadata": {
  "colab": {
   "collapsed_sections": [
    "gyBEk1VU9gsF",
    "8a1VN58m9gsJ"
   ],
   "name": "Final Project Report.ipynb",
   "provenance": []
  },
  "kernelspec": {
   "display_name": "Python 3.9.7 ('base')",
   "language": "python",
   "name": "python3"
  },
  "language_info": {
   "codemirror_mode": {
    "name": "ipython",
    "version": 3
   },
   "file_extension": ".py",
   "mimetype": "text/x-python",
   "name": "python",
   "nbconvert_exporter": "python",
   "pygments_lexer": "ipython3",
   "version": "3.9.7"
  },
  "vscode": {
   "interpreter": {
    "hash": "1eeb7536f37c095e8f493708f17fca3a50ca0896d5835f25d96faafa7ddba789"
   }
  }
 },
 "nbformat": 4,
 "nbformat_minor": 1
}
